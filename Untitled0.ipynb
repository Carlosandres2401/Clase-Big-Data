{
  "nbformat": 4,
  "nbformat_minor": 0,
  "metadata": {
    "colab": {
      "provenance": []
    },
    "kernelspec": {
      "name": "python3",
      "display_name": "Python 3"
    },
    "language_info": {
      "name": "python"
    }
  },
  "cells": [
    {
      "cell_type": "code",
      "source": [
        "def división_de_numeros_enteros (a,b,c):\n",
        "  if type (a)== int and type (b)== int and type (c)== int:\n",
        "    suma = a + b\n",
        "    if c==0:\n",
        "      print(\"No se puede dividir entre 0\")\n",
        "    else:\n",
        "      print( suma / c)\n",
        "  else:\n",
        "    print(\"Alguno de los dos numeros no es un entero\")\n",
        "\n",
        "\n"
      ],
      "metadata": {
        "id": "EVojM2aXexIr"
      },
      "execution_count": 12,
      "outputs": []
    },
    {
      "cell_type": "code",
      "source": [
        "división_de_numeros_enteros (\"h\",2,0)"
      ],
      "metadata": {
        "colab": {
          "base_uri": "https://localhost:8080/"
        },
        "id": "c_yclKGNna_E",
        "outputId": "632dc7f0-73d8-445d-cf66-802deed9a27a"
      },
      "execution_count": 15,
      "outputs": [
        {
          "output_type": "stream",
          "name": "stdout",
          "text": [
            "Alguno de los dos numeros no es un entero\n"
          ]
        }
      ]
    }
  ]
}